{
 "cells": [
  {
   "cell_type": "code",
   "execution_count": 14,
   "metadata": {},
   "outputs": [],
   "source": [
    "import altair as alt\n",
    "import pandas as pd\n",
    "from data_loader import load_mefisto_visium\n",
    "from mofapy2.run.entry_point import entry_point"
   ]
  },
  {
   "cell_type": "code",
   "execution_count": 2,
   "metadata": {},
   "outputs": [],
   "source": [
    "adata = load_mefisto_visium()"
   ]
  },
  {
   "cell_type": "code",
   "execution_count": 3,
   "metadata": {},
   "outputs": [
    {
     "name": "stdout",
     "output_type": "stream",
     "text": [
      "\n",
      "        #########################################################\n",
      "        ###           __  __  ____  ______                    ### \n",
      "        ###          |  \\/  |/ __ \\|  ____/\\    _             ### \n",
      "        ###          | \\  / | |  | | |__ /  \\ _| |_           ### \n",
      "        ###          | |\\/| | |  | |  __/ /\\ \\_   _|          ###\n",
      "        ###          | |  | | |__| | | / ____ \\|_|            ###\n",
      "        ###          |_|  |_|\\____/|_|/_/    \\_\\              ###\n",
      "        ###                                                   ### \n",
      "        ######################################################### \n",
      "       \n",
      " \n",
      "        \n",
      "use_float32 set to True: replacing float64 arrays by float32 arrays to speed up computations...\n",
      "\n",
      "Loaded view='rna' group='group1' with N=2487 samples and D=2000 features...\n",
      "\n",
      "\n",
      "Model options:\n",
      "- Automatic Relevance Determination prior on the factors: False\n",
      "- Automatic Relevance Determination prior on the weights: True\n",
      "- Spike-and-slab prior on the factors: False\n",
      "- Spike-and-slab prior on the weights: True\n",
      "Likelihoods:\n",
      "- View 0 (rna): gaussian\n",
      "\n",
      "\n",
      "Loaded 2 covariate(s) for each sample...\n",
      "\n",
      "\n",
      "##\n",
      "## sparseGP set to True: using sparse Gaussian Process to speed up the training procedure\n",
      "##\n"
     ]
    }
   ],
   "source": [
    "ent = entry_point()\n",
    "ent.set_data_options(use_float32=True)\n",
    "ent.set_data_from_anndata(adata, features_subset=\"highly_variable\")\n",
    "ent.set_model_options(factors=4)\n",
    "ent.set_train_options()\n",
    "ent.set_train_options(seed=2021)\n",
    "# We use 1000 inducing points to learn spatial covariance patterns\n",
    "n_inducing = 1000\n",
    "\n",
    "ent.set_covariates([adata.obsm[\"spatial\"]], covariates_names=[\"imagerow\", \"imagecol\"])\n",
    "ent.set_smooth_options(sparseGP=True, frac_inducing=n_inducing/adata.n_obs,\n",
    "                       start_opt=10, opt_freq=10)"
   ]
  },
  {
   "cell_type": "code",
   "execution_count": 5,
   "metadata": {},
   "outputs": [
    {
     "name": "stdout",
     "output_type": "stream",
     "text": [
      "\n",
      "\n",
      "######################################\n",
      "## Training the model with seed 2021 ##\n",
      "######################################\n",
      "\n",
      "\n",
      "ELBO before training: -18666215.52 \n",
      "\n",
      "Iteration 1: time=0.82, ELBO=-206209.44, deltaELBO=18460006.082 (98.89527986%), Factors=4\n",
      "Iteration 2: time=0.80, ELBO=-89797.44, deltaELBO=116412.000 (0.62365079%), Factors=4\n",
      "Iteration 3: time=0.84, ELBO=-75723.95, deltaELBO=14073.494 (0.07539554%), Factors=4\n",
      "Iteration 4: time=0.81, ELBO=-72133.51, deltaELBO=3590.443 (0.01923498%), Factors=4\n",
      "Iteration 5: time=0.81, ELBO=-69424.73, deltaELBO=2708.780 (0.01451167%), Factors=4\n",
      "Iteration 6: time=0.80, ELBO=-67148.28, deltaELBO=2276.451 (0.01219557%), Factors=4\n",
      "Iteration 7: time=0.79, ELBO=-65220.17, deltaELBO=1928.106 (0.01032939%), Factors=4\n",
      "Iteration 8: time=0.78, ELBO=-63647.17, deltaELBO=1572.999 (0.00842698%), Factors=4\n",
      "Iteration 9: time=0.79, ELBO=-62424.39, deltaELBO=1222.781 (0.00655077%), Factors=4\n",
      "Optimising sigma node...\n",
      "Iteration 10: time=43.25, ELBO=-15753.98, deltaELBO=46670.411 (0.25002610%), Factors=4\n",
      "Iteration 11: time=3.58, ELBO=-76752.66, deltaELBO=-60998.684 (0.32678656%), Factors=4\n",
      "Warning, lower bound is decreasing...\u0007\n",
      "Iteration 12: time=3.54, ELBO=-71257.79, deltaELBO=5494.876 (0.02943755%), Factors=4\n",
      "Iteration 13: time=3.59, ELBO=-68151.99, deltaELBO=3105.797 (0.01663860%), Factors=4\n",
      "Iteration 14: time=3.60, ELBO=-65823.17, deltaELBO=2328.815 (0.01247610%), Factors=4\n",
      "Iteration 15: time=3.61, ELBO=-63994.33, deltaELBO=1828.849 (0.00979764%), Factors=4\n",
      "Iteration 16: time=3.57, ELBO=-62525.22, deltaELBO=1469.101 (0.00787038%), Factors=4\n",
      "Iteration 17: time=3.57, ELBO=-61326.59, deltaELBO=1198.636 (0.00642142%), Factors=4\n",
      "Iteration 18: time=3.56, ELBO=-60348.49, deltaELBO=978.098 (0.00523994%), Factors=4\n",
      "Iteration 19: time=3.68, ELBO=-59545.99, deltaELBO=802.503 (0.00429923%), Factors=4\n",
      "Optimising sigma node...\n",
      "Iteration 20: time=38.17, ELBO=-58834.50, deltaELBO=711.491 (0.00381165%), Factors=4\n",
      "Iteration 21: time=3.57, ELBO=-61030.00, deltaELBO=-2195.502 (0.01176190%), Factors=4\n",
      "Warning, lower bound is decreasing...\u0007\n",
      "Iteration 22: time=3.66, ELBO=-60373.42, deltaELBO=656.581 (0.00351748%), Factors=4\n",
      "Iteration 23: time=3.54, ELBO=-59821.55, deltaELBO=551.869 (0.00295651%), Factors=4\n",
      "Iteration 24: time=3.54, ELBO=-59348.88, deltaELBO=472.672 (0.00253223%), Factors=4\n",
      "Iteration 25: time=3.57, ELBO=-58940.16, deltaELBO=408.720 (0.00218962%), Factors=4\n",
      "Iteration 26: time=3.59, ELBO=-58581.97, deltaELBO=358.184 (0.00191889%), Factors=4\n",
      "Iteration 27: time=3.76, ELBO=-58269.39, deltaELBO=312.586 (0.00167461%), Factors=4\n",
      "Iteration 28: time=3.65, ELBO=-57992.47, deltaELBO=276.923 (0.00148355%), Factors=4\n",
      "Iteration 29: time=3.46, ELBO=-57744.84, deltaELBO=247.625 (0.00132660%), Factors=4\n",
      "Optimising sigma node...\n",
      "Iteration 30: time=36.17, ELBO=-57504.06, deltaELBO=240.779 (0.00128992%), Factors=4\n",
      "Iteration 31: time=3.73, ELBO=-58314.91, deltaELBO=-810.846 (0.00434393%), Factors=4\n",
      "Warning, lower bound is decreasing...\u0007\n",
      "Iteration 32: time=3.58, ELBO=-58102.82, deltaELBO=212.086 (0.00113620%), Factors=4\n",
      "Iteration 33: time=3.60, ELBO=-57914.26, deltaELBO=188.558 (0.00101015%), Factors=4\n",
      "Iteration 34: time=3.57, ELBO=-57745.37, deltaELBO=168.898 (0.00090483%), Factors=4\n",
      "Iteration 35: time=3.56, ELBO=-57594.49, deltaELBO=150.877 (0.00080829%), Factors=4\n",
      "Iteration 36: time=3.63, ELBO=-57459.52, deltaELBO=134.975 (0.00072310%), Factors=4\n",
      "Iteration 37: time=3.62, ELBO=-57337.23, deltaELBO=122.280 (0.00065509%), Factors=4\n",
      "Iteration 38: time=3.71, ELBO=-57226.67, deltaELBO=110.565 (0.00059232%), Factors=4\n",
      "Iteration 39: time=3.63, ELBO=-57123.53, deltaELBO=103.139 (0.00055254%), Factors=4\n",
      "Optimising sigma node...\n",
      "Iteration 40: time=38.33, ELBO=-57023.18, deltaELBO=100.351 (0.00053761%), Factors=4\n",
      "Iteration 41: time=3.57, ELBO=-57211.79, deltaELBO=-188.613 (0.00101045%), Factors=4\n",
      "Warning, lower bound is decreasing...\u0007\n",
      "Iteration 42: time=3.58, ELBO=-57128.39, deltaELBO=83.406 (0.00044683%), Factors=4\n",
      "Iteration 43: time=3.64, ELBO=-57051.55, deltaELBO=76.839 (0.00041165%), Factors=4\n",
      "\n",
      "Converged!\n",
      "\n",
      "\n",
      "\n",
      "#######################\n",
      "## Training finished ##\n",
      "#######################\n",
      "\n",
      "\n"
     ]
    }
   ],
   "source": [
    "ent.build()\n",
    "ent.run()"
   ]
  },
  {
   "cell_type": "code",
   "execution_count": 23,
   "metadata": {},
   "outputs": [
    {
     "data": {
      "text/plain": [
       "dict_keys(['U', 'Z', 'W', 'Tau', 'Y', 'AlphaW', 'Sigma', 'ThetaW'])"
      ]
     },
     "execution_count": 23,
     "metadata": {},
     "output_type": "execute_result"
    }
   ],
   "source": [
    "ent.model.getParameters().keys()"
   ]
  },
  {
   "cell_type": "code",
   "execution_count": 26,
   "metadata": {},
   "outputs": [
    {
     "data": {
      "text/plain": [
       "array([[-1.30020598e+00, -2.89240197e+00,  7.54751502e+00,\n",
       "         1.05253046e+01],\n",
       "       [-1.97068658e+00, -2.47724139e+00,  6.86922113e+00,\n",
       "         9.69276762e-01],\n",
       "       [-1.81670868e+00, -3.01132671e+00,  7.48438878e+00,\n",
       "         3.04116581e+00],\n",
       "       ...,\n",
       "       [-2.93948787e+00, -4.19927774e-01,  6.34242775e-01,\n",
       "         8.80119092e-01],\n",
       "       [-4.04150650e+00, -2.53989757e-02,  9.16735291e-03,\n",
       "         6.18074512e-01],\n",
       "       [-4.11376374e+00,  6.58559220e-01, -2.60403635e-01,\n",
       "        -1.24541259e+00]])"
      ]
     },
     "execution_count": 26,
     "metadata": {},
     "output_type": "execute_result"
    }
   ],
   "source": [
    "ent.model.getParameters()[\"U\"][\"mean\"]"
   ]
  },
  {
   "cell_type": "code",
   "execution_count": 24,
   "metadata": {},
   "outputs": [
    {
     "data": {
      "text/plain": [
       "dict_keys(['U', 'Z', 'W', 'Tau', 'Y', 'AlphaW', 'Sigma', 'ThetaW'])"
      ]
     },
     "execution_count": 24,
     "metadata": {},
     "output_type": "execute_result"
    }
   ],
   "source": [
    "ent.model.getExpectations().keys()"
   ]
  },
  {
   "cell_type": "code",
   "execution_count": 17,
   "metadata": {},
   "outputs": [],
   "source": [
    "def plot_factors_covariate_2d(factors, covariates):\n",
    "    factor_charts = []\n",
    "    z = factors\n",
    "    df = pd.DataFrame(z)\n",
    "    for i in range(covariates.shape[-1]):\n",
    "        df[f\"covariate_{i}\"] = covariates[:, i]\n",
    "    df.columns = df.columns.astype(str)\n",
    "\n",
    "    for factor in range(factors.shape[1]):\n",
    "        scatter_plot = (\n",
    "            alt.Chart(df)\n",
    "            .mark_point(filled=True)\n",
    "            .encode(\n",
    "                x=alt.X(\"covariate_0:O\", title=\"Covariate dim 1\", axis=alt.Axis(labels=False)),\n",
    "                y=alt.Y(\"covariate_1:O\", title=\"Covariate dim 2\", axis=alt.Axis(labels=False)),\n",
    "                color=alt.Color(f\"{factor}:Q\", scale=alt.Scale(scheme=\"redblue\", domainMid=0)),\n",
    "            )\n",
    "            .properties(width=300, height=300, title=f\"Factor {factor+1} with covariates\")\n",
    "            .interactive()\n",
    "        )\n",
    "\n",
    "        factor_charts.append(scatter_plot)\n",
    "\n",
    "    # Concatenate all the charts vertically\n",
    "    final_chart = alt.hconcat(*factor_charts)\n",
    "\n",
    "    # Display the chart\n",
    "    final_chart.display()"
   ]
  }
 ],
 "metadata": {
  "kernelspec": {
   "display_name": "mofapy",
   "language": "python",
   "name": "python3"
  },
  "language_info": {
   "codemirror_mode": {
    "name": "ipython",
    "version": 3
   },
   "file_extension": ".py",
   "mimetype": "text/x-python",
   "name": "python",
   "nbconvert_exporter": "python",
   "pygments_lexer": "ipython3",
   "version": "3.12.3"
  }
 },
 "nbformat": 4,
 "nbformat_minor": 2
}
